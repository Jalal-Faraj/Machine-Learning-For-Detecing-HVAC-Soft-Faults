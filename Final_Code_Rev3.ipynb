{
 "cells": [
  {
   "cell_type": "markdown",
   "metadata": {},
   "source": [
    "# Labeling the Data:"
   ]
  },
  {
   "cell_type": "code",
   "execution_count": null,
   "metadata": {},
   "outputs": [],
   "source": [
    "#Instructions\n",
    "\n",
    "# With this Jupyter notebook should also have been included an excel file named Final Data.xlsx.\n",
    "# Place the Jupyter notebook and excel file in the same folder space to begin \n",
    "\n",
    "# This code is designed to be run as is with no changes to any values. Key parameters will be identified throughout\n",
    "# in case the user would like to experiment with different values\n",
    "\n",
    "#Import excel with air conditioner feature data\n",
    "#Where is the excel sheet supposed to live?\n",
    "import pandas as pd\n",
    "df = pd.read_excel ('Final Data.xlsx')\n",
    "skipinitialspace=True"
   ]
  },
  {
   "cell_type": "code",
   "execution_count": null,
   "metadata": {},
   "outputs": [],
   "source": [
    "# This module labels the faults in the data by flagging a fault everytime one of the constarints is violated.\n",
    "# The following constraints are applied on the following columns in the data: FI.REF.A, FI.REF.B, FI.COND, FI.EVAP\n",
    "# Constraints were taken from lab and used to label the data since this is a supervised learning method\n",
    "# A single if statement is used so only a single fault is checked for at a given time\n",
    "# Each section of the if statement is labeled for its respective fault\n",
    "# temp4 was applied to all the data points.\n",
    "def temp4(row):\n",
    "    # Undercharged A Fault\n",
    "    if row['FI.REF.A'] < -0.2:\n",
    "        row['LABELS'] = 'Undercharged A'\n",
    "        \n",
    "    # Overcharged A    \n",
    "    elif row['FI.REF.A'] > 0.2:\n",
    "        row['LABELS'] = 'Overcharged A'\n",
    "        \n",
    "    # System Off\n",
    "    elif row['COMP.A'] == 0 or row['COMP.B'] == 0 or row['System Status'] == 0:\n",
    "        row['LABELS'] = 'System Off'\n",
    "        \n",
    "    # Undercharged B    \n",
    "    elif row['FI.REF.B'] < -0.2:\n",
    "        row['LABELS'] = 'Undercharged B'\n",
    "        \n",
    "    # Overcharged B   \n",
    "    elif row['FI.REF.B'] > 0.2:\n",
    "        row['LABELS'] = 'Overcharged B'\n",
    "        \n",
    "    # For Condensor faults\n",
    "    elif row['FI.COND'] < -0.4:\n",
    "        row['LABELS'] = 'Condensor Fault' # fault\n",
    "        \n",
    "    # For Evaporator faults  \n",
    "    elif row['FI.EVAP'] < -0.305:\n",
    "        row['LABELS'] = 'Evaporator Fault'\n",
    "        \n",
    "    else:\n",
    "        # No Fault\n",
    "        row['LABELS'] = 'No Fault'\n",
    "        \n",
    "    return row\n",
    "\n",
    "df_classesD = df.apply(temp4, axis=1)"
   ]
  },
  {
   "cell_type": "code",
   "execution_count": null,
   "metadata": {},
   "outputs": [],
   "source": [
    "# create excel writer object and output final labeled dataset\n",
    "writer = pd.ExcelWriter('Final(With Label) Data.xlsx')\n",
    "\n",
    "# write dataframe to excel\n",
    "df_classesD.to_excel(writer)\n",
    "\n",
    "# save the excel\n",
    "writer.save()\n",
    "\n",
    "print('DataFrame is written successfully to Excel File.')"
   ]
  },
  {
   "cell_type": "code",
   "execution_count": null,
   "metadata": {},
   "outputs": [],
   "source": [
    "# Proceed when output above states \"DataFrame is written successfully to Excel File.\"\n",
    "# Print table of total count of each type of data after labeling complete\n",
    "df_classesD['LABELS'].value_counts()"
   ]
  },
  {
   "cell_type": "markdown",
   "metadata": {},
   "source": [
    "# Applying SVM to Data:"
   ]
  },
  {
   "cell_type": "code",
   "execution_count": 1,
   "metadata": {},
   "outputs": [],
   "source": [
    "# import final labeled dataset\n",
    "import pandas as pd\n",
    "df = pd.read_excel ('Final(With Label) Data.xlsx')\n",
    "skipinitialspace=True"
   ]
  },
  {
   "cell_type": "code",
   "execution_count": 2,
   "metadata": {},
   "outputs": [],
   "source": [
    "import numpy as np\n",
    "from sklearn.model_selection import train_test_split\n",
    "from sklearn import datasets\n",
    "from sklearn import svm\n",
    "from sklearn.model_selection import cross_val_score\n",
    "from sklearn.model_selection import KFold\n",
    "from numpy import mean\n",
    "from numpy import std\n",
    "from sklearn.datasets import make_classification\n",
    "from sklearn.metrics import confusion_matrix\n",
    "\n",
    "# We are going to run SVM on all faults\n",
    "# df.drop chooses to use all data in excel file excluding the column with the labels\n",
    "x = df.iloc[:, 4:32]\n",
    "y = df['LABELS']"
   ]
  },
  {
   "cell_type": "code",
   "execution_count": 3,
   "metadata": {},
   "outputs": [],
   "source": [
    "from sklearn import svm\n",
    "\n",
    "# Create a svm Classifier, initially we are not going to hypertune the parameters, \n",
    "# we are going with the default SVM hyperparameters\n",
    "clf = svm.SVC(kernel='linear')# Linear Kernel"
   ]
  },
  {
   "cell_type": "code",
   "execution_count": 4,
   "metadata": {},
   "outputs": [
    {
     "name": "stdout",
     "output_type": "stream",
     "text": [
      "Mean Accuracy: 0.982 Mean Standard Deviation(0.007)\n"
     ]
    }
   ],
   "source": [
    "# Apply SVM and implement 10 Fold cross fold validation.   \n",
    "cv = KFold(n_splits = 10, random_state=1, shuffle=True)\n",
    "# create a linear SVM model and set hyperparameters C and gamma. Modify these parameters to tune the SVM model\n",
    "model = svm.SVC(kernel='linear')\n",
    "# evaluate model and report performance\n",
    "scores = cross_val_score(model, x, y, scoring='accuracy', cv=cv, n_jobs=-1)\n",
    "print('Mean Accuracy: %.3f Mean Standard Deviation(%.3f)' % (mean(scores), std(scores)))"
   ]
  },
  {
   "cell_type": "markdown",
   "metadata": {},
   "source": [
    "# Apply Confusion Matrix to Cross Validation Model:"
   ]
  },
  {
   "cell_type": "code",
   "execution_count": 5,
   "metadata": {},
   "outputs": [],
   "source": [
    "# Fault names for confusion matrix\n",
    "# System not working means system is off, so System Not Working, and System Off represent the same class\n",
    "class_names = ['Undercharged B','System Off', 'Overcharged A', 'Condensor Fault', 'Evaporator Fault', 'No Fault']"
   ]
  },
  {
   "cell_type": "code",
   "execution_count": 6,
   "metadata": {},
   "outputs": [
    {
     "data": {
      "text/plain": [
       "Text(32.99999999999999, 0.5, 'True')"
      ]
     },
     "execution_count": 6,
     "metadata": {},
     "output_type": "execute_result"
    },
    {
     "data": {
      "image/png": "[encoded data removed]",
      "text/plain": [
       "<Figure size 432x288 with 2 Axes>"
      ]
     },
     "metadata": {
      "needs_background": "light"
     },
     "output_type": "display_data"
    }
   ],
   "source": [
    "# This module creates a confusion matrix for all the faults\n",
    "import seaborn as sns\n",
    "from sklearn.model_selection import cross_val_predict\n",
    "from sklearn.metrics import confusion_matrix\n",
    "import matplotlib.pyplot as plt\n",
    "# Confusion matrix compares y_test (y) to y_pred\n",
    "y_pred = cross_val_predict(clf, x, y, cv = 10)\n",
    "conf_mat = confusion_matrix(y, y_pred, labels = class_names)\n",
    "index = class_names\n",
    "columns = class_names\n",
    "cm_df = pd.DataFrame(conf_mat,columns,index)                        \n",
    "sns.heatmap(cm_df, annot=True, cmap=\"Blues\", fmt= \"d\")\n",
    "plt.title('Confusion matrix without normalization')\n",
    "plt.xlabel('Predicted')\n",
    "plt.ylabel('True')"
   ]
  },
  {
   "cell_type": "code",
   "execution_count": 7,
   "metadata": {},
   "outputs": [
    {
     "data": {
      "text/plain": [
       "Text(32.99999999999999, 0.5, 'True')"
      ]
     },
     "execution_count": 7,
     "metadata": {},
     "output_type": "execute_result"
    },
    {
     "data": {
      "image/png": "[encoded data removed]",
      "text/plain": [
       "<Figure size 432x288 with 2 Axes>"
      ]
     },
     "metadata": {
      "needs_background": "light"
     },
     "output_type": "display_data"
    }
   ],
   "source": [
    "# Create new confusion matrix with normalization applied\n",
    "y_pred = cross_val_predict(clf, x, y, cv = 10)\n",
    "conf_mat2 = confusion_matrix(y, y_pred, labels = class_names, normalize='true')\n",
    "cm_df2 = pd.DataFrame(conf_mat2,columns,index)                        \n",
    "sns.heatmap(cm_df2, annot=True, cmap=\"Blues\")\n",
    "plt.title('Normalized confusion matrix')\n",
    "plt.xlabel('Predicted')\n",
    "plt.ylabel('True')"
   ]
  },
  {
   "cell_type": "markdown",
   "metadata": {},
   "source": [
    "## Accuracy Metrics:"
   ]
  },
  {
   "cell_type": "code",
   "execution_count": 8,
   "metadata": {},
   "outputs": [
    {
     "name": "stdout",
     "output_type": "stream",
     "text": [
      "                  precision    recall  f1-score   support\n",
      "\n",
      " Condensor Fault       0.97      0.87      0.92       451\n",
      "Evaporator Fault       0.89      0.97      0.93       237\n",
      "        No Fault       0.72      0.94      0.81        99\n",
      "   Overcharged A       0.89      0.89      0.89       475\n",
      "      System Off       0.93      0.93      0.93       774\n",
      "  Undercharged B       1.00      1.00      1.00       837\n",
      "\n",
      "        accuracy                           0.94      2873\n",
      "       macro avg       0.90      0.93      0.91      2873\n",
      "    weighted avg       0.94      0.94      0.94      2873\n",
      "\n"
     ]
    }
   ],
   "source": [
    "# Generate accuracy metrics for SVM model\n",
    "from sklearn.metrics import classification_report\n",
    "# The precision is intuitively the ability of the classifier not to label as positive a sample that is negative.\n",
    "# The recall is intuitively the ability of the classifier to find all the positive samples.\n",
    "# The F-beta score can be interpreted as a weighted harmonic mean of the precision and recall, \n",
    "# where an F-beta score reaches its best value at 1 and worst score at 0.\n",
    "# The support is the number of occurrences of each class where prediction is true\n",
    "target_names = ['Condensor Fault', 'Evaporator Fault', 'No Fault', 'Overcharged A', 'System Off', 'Undercharged B']\n",
    "print(classification_report(y, y_pred, target_names=target_names))"
   ]
  },
  {
   "cell_type": "markdown",
   "metadata": {},
   "source": [
    "# Using Pearson Correlation, and Trying Top n Correlated Features in SVM:"
   ]
  },
  {
   "cell_type": "code",
   "execution_count": 9,
   "metadata": {},
   "outputs": [],
   "source": [
    "# upload dataset and shuffle it for randomization \n",
    "df = pd.read_excel ('Final(With Label) Data.xlsx').sample(frac = 1, random_state= 10,).reset_index(drop=True)\n",
    "skipinitialspace=True"
   ]
  },
  {
   "cell_type": "code",
   "execution_count": 10,
   "metadata": {},
   "outputs": [],
   "source": [
    "# Combining colums 4:32 with column 37 (containing the labels), to use pearson correlation between the lables \n",
    "# and the rest of the featues.\n",
    "# We will only use 90% of the data which is the training data, for feature selection to determine the optimal\n",
    "# of features.\n",
    "# Shuffling was done to imitate cross fold validation scheme (it shuffles and splits into test/training)\n",
    "df1 = df.iloc[:,4:32].join(df.iloc[:,43])\n",
    "df2 = df1[0:2586]\n",
    "# randomizing features and returning 80% of them (training set size)\n",
    "# Appling Pearson Correlation\n",
    "corr_matrix = df2.apply(lambda x : pd.factorize(x)[0]).corr(method='pearson', min_periods=1)\n",
    "# Sorting highest correlated features\n",
    "corr_matrix['LABELS'][0:2586].sort_values(ascending=False)\n",
    "# Putting the Correlated features and their pearson correlation in a dictionary \n",
    "dic = corr_matrix['LABELS'][0:2586].sort_values(ascending=False).to_dict()\n",
    "corr_list = list(dic.items())"
   ]
  },
  {
   "cell_type": "code",
   "execution_count": 11,
   "metadata": {},
   "outputs": [],
   "source": [
    "# Reversing the order of the correlated features from highest to lowest value\n",
    "corr_list.sort(key = lambda x : x[1], reverse = True)"
   ]
  },
  {
   "cell_type": "code",
   "execution_count": 12,
   "metadata": {},
   "outputs": [
    {
     "data": {
      "text/plain": [
       "[('LABELS', 1.0),\n",
       " ('SUCT1', 0.08004260843204708),\n",
       " ('EVAT', 0.0600678941518058),\n",
       " ('DIST1', 0.018378879420725334),\n",
       " ('SURH', 0.015910315660396704),\n",
       " ('RERH', 0.013932004450557376),\n",
       " ('ECT', 0.013890408340240473),\n",
       " ('ECT.Humidity', 0.013760361820781195),\n",
       " ('ECRH', 0.013573348611116146),\n",
       " ('SUAVG.Humidity', 0.013573348611116146),\n",
       " ('ORH', 0.013573348611116146),\n",
       " ('OT', 0.013573348611116146),\n",
       " ('IT', 0.013141377566961283),\n",
       " ('SUCP2', 0.013054324015699654),\n",
       " ('RUAVG.Humidity', 0.012987634880344096),\n",
       " ('RET', 0.012969747110828414),\n",
       " ('SUCP1', 0.012349351553054161),\n",
       " ('SUT', 0.011890163210849772),\n",
       " ('DISP2', 0.01147211225235575),\n",
       " ('DISP1', 0.009503042320288426),\n",
       " ('FLW', -0.0007278027156180084),\n",
       " ('SUCT2', -0.003346137454932927),\n",
       " ('CONT', -0.004647344797409041),\n",
       " ('EXT1', -0.021361403902296915),\n",
       " ('DIST2', -0.032627983089972896),\n",
       " ('EXT2', -0.038808196852072735),\n",
       " ('SUAVG', -0.06697627936534291),\n",
       " ('RUAVG', -0.12184514000710306),\n",
       " ('MAIN', -0.4126883787479898)]"
      ]
     },
     "execution_count": 12,
     "metadata": {},
     "output_type": "execute_result"
    }
   ],
   "source": [
    "# List of correlated features and their correlation values (*100 --> %)\n",
    "# Correlation value in relation to output \"LABELS\"\n",
    "corr_list"
   ]
  },
  {
   "cell_type": "markdown",
   "metadata": {},
   "source": [
    "# Applying SVM on model with feature selection:"
   ]
  },
  {
   "cell_type": "code",
   "execution_count": 19,
   "metadata": {},
   "outputs": [
    {
     "name": "stdout",
     "output_type": "stream",
     "text": [
      "Mean Accuracy: 0.931 Mean Standard Deviation(0.015); using top 9 Feature(s)\n",
      "Mean Accuracy: 0.930 Mean Standard Deviation(0.015); using top 10 Feature(s)\n",
      "Mean Accuracy: 0.975 Mean Standard Deviation(0.010); using top 11 Feature(s)\n",
      "Mean Accuracy: 0.975 Mean Standard Deviation(0.010); using top 12 Feature(s)\n",
      "Mean Accuracy: 0.977 Mean Standard Deviation(0.011); using top 13 Feature(s)\n",
      "Mean Accuracy: 0.977 Mean Standard Deviation(0.011); using top 14 Feature(s)\n",
      "Mean Accuracy: 0.976 Mean Standard Deviation(0.011); using top 15 Feature(s)\n",
      "Mean Accuracy: 0.976 Mean Standard Deviation(0.011); using top 16 Feature(s)\n",
      "Mean Accuracy: 0.978 Mean Standard Deviation(0.009); using top 17 Feature(s)\n",
      "Mean Accuracy: 0.979 Mean Standard Deviation(0.008); using top 18 Feature(s)\n",
      "Mean Accuracy: 0.981 Mean Standard Deviation(0.008); using top 19 Feature(s)\n",
      "Mean Accuracy: 0.982 Mean Standard Deviation(0.009); using top 20 Feature(s)\n",
      "Mean Accuracy: 0.983 Mean Standard Deviation(0.008); using top 21 Feature(s)\n",
      "Mean Accuracy: 0.983 Mean Standard Deviation(0.009); using top 22 Feature(s)\n",
      "Mean Accuracy: 0.987 Mean Standard Deviation(0.008); using top 23 Feature(s)\n",
      "Mean Accuracy: 0.987 Mean Standard Deviation(0.006); using top 24 Feature(s)\n",
      "Mean Accuracy: 0.989 Mean Standard Deviation(0.006); using top 25 Feature(s)\n",
      "Mean Accuracy: 0.988 Mean Standard Deviation(0.006); using top 26 Feature(s)\n",
      "Mean Accuracy: 0.989 Mean Standard Deviation(0.006); using top 27 Feature(s)\n",
      "Mean Accuracy: 0.982 Mean Standard Deviation(0.007); using top 28 Feature(s)\n"
     ]
    }
   ],
   "source": [
    "# For loop to run through the best n correlated features and apply to SVM to see if their is an accuracy increase\n",
    "# Best accuracy achieved when top 25 features are chosen\n",
    "# This method is used instead of forward/backward selection due to computational complexity of the selection methods\n",
    "# Starting from 9 features, otherwis SVM will not be able to classify, or will calssify with a very low accuracy\n",
    "for n in range(10,30):\n",
    "    column_names = [i[0] for i in corr_list[1:n] ]\n",
    "\n",
    "    # Now we apply the feature selection method on the whole data\n",
    "    df = pd.read_excel ('Final(With Label) Data.xlsx')\n",
    "    skipinitialspace=True\n",
    "    \n",
    "    df_sub = df.loc[:,column_names]\n",
    "    X = df_sub\n",
    "    y = df['LABELS']\n",
    "\n",
    "    # Applying SVM and Implement 10 Fold cross fold validation. \n",
    "    # To change the number of folds, chnage the n_splits value  \n",
    "    cv = KFold(n_splits = 10, random_state=1, shuffle=True)\n",
    "    # create a linear SVM model and set hyperparameters C and gamma. Modify these parameters to tune the SVM model\n",
    "    model = svm.SVC(kernel='linear')\n",
    "    scores = cross_val_score(model, X, y, scoring='accuracy', cv=cv, n_jobs=-1)\n",
    "    print('Mean Accuracy: %.3f Mean Standard Deviation(%.3f); using top %d Feature(s)' % (mean(scores), std(scores), n-1))"
   ]
  },
  {
   "cell_type": "markdown",
   "metadata": {},
   "source": [
    "#### Top 25 (25/28) features --> 98.9% accuracy\n",
    "#### Accuracy improved from original model by 0.7%"
   ]
  },
  {
   "cell_type": "markdown",
   "metadata": {},
   "source": [
    "# Tuning Hyperparameters on Model with Feature Selection:"
   ]
  },
  {
   "cell_type": "code",
   "execution_count": 20,
   "metadata": {},
   "outputs": [
    {
     "data": {
      "text/plain": [
       "25"
      ]
     },
     "execution_count": 20,
     "metadata": {},
     "output_type": "execute_result"
    }
   ],
   "source": [
    "# Make a susbset of features only using the top 25 correlated features with the output\n",
    "# Return new dimensions of the dataset\n",
    "column_names = [i[0] for i in corr_list[1:26]] \n",
    "df_sub_new = df.loc[:,column_names]\n",
    "len(column_names)"
   ]
  },
  {
   "cell_type": "code",
   "execution_count": 21,
   "metadata": {},
   "outputs": [
    {
     "data": {
      "text/plain": [
       "(2873, 25)"
      ]
     },
     "execution_count": 21,
     "metadata": {},
     "output_type": "execute_result"
    }
   ],
   "source": [
    "# Return new dimensions of the dataset\n",
    "X_new = df_sub_new\n",
    "y = df['LABELS']\n",
    "X_new.shape "
   ]
  },
  {
   "cell_type": "markdown",
   "metadata": {},
   "source": [
    "## Hyper Tuning C parameter:"
   ]
  },
  {
   "cell_type": "code",
   "execution_count": null,
   "metadata": {},
   "outputs": [],
   "source": [
    "list_C = [0.001, 0.10, 1, 5, 10, 25, 50, 100]"
   ]
  },
  {
   "cell_type": "code",
   "execution_count": null,
   "metadata": {
    "scrolled": true
   },
   "outputs": [],
   "source": [
    "# Iterate through C values to see which C value gives the best accuracy:\n",
    "for i in list_C:\n",
    "    # Applying SVM and Implement 10 Fold cross fold validation. \n",
    "    # To change the number of folds, change the n_splits value  \n",
    "    cv = KFold(n_splits = 10, random_state=10, shuffle=True)\n",
    "    # create a linear SVM model and set hyperparameters C and gamma. Modify these parameters to tune the SVM model\n",
    "    model = svm.SVC(kernel='linear', C = i, gamma='scale')\n",
    "    scores = cross_val_score(model, X, y, scoring='accuracy', cv=cv, n_jobs=-1)\n",
    "    print('Mean Accuracy: %.3f Mean Standard Deviation(%.3f); For the value C = %.3f' % (mean(scores), std(scores), i))"
   ]
  },
  {
   "cell_type": "markdown",
   "metadata": {},
   "source": [
    "#### C = 1 gives best result, we can't determine exactly which value for C the SVM module is using but we can surmize it is close to 1"
   ]
  },
  {
   "cell_type": "markdown",
   "metadata": {},
   "source": [
    "## Hypertuning for the value of Gamma, using C = 1:"
   ]
  },
  {
   "cell_type": "code",
   "execution_count": null,
   "metadata": {},
   "outputs": [],
   "source": [
    "list_Gamma =  [1,0.1,0.01,0.001]"
   ]
  },
  {
   "cell_type": "code",
   "execution_count": null,
   "metadata": {},
   "outputs": [],
   "source": [
    "# Iterate through Gamma values to see which Gamma value gives the best accuracy:\n",
    "for i in list_C:\n",
    "    # Applying SVM and Implement 10 Fold cross fold validation. \n",
    "    # To change the number of folds, chnage the n_splits value  \n",
    "    cv = KFold(n_splits = 10, random_state=1, shuffle=True)\n",
    "    # create a linear SVM model and set hyperparameters C and gamma. Modify these parameters to tune the SVM model\n",
    "    model = svm.SVC(kernel='linear', C = 0.1, gamma = i)\n",
    "    scores = cross_val_score(model, X, y, scoring='accuracy', cv=cv, n_jobs=-1)\n",
    "    print('Mean Accuracy: %.3f Mean Standard Deviation(%.3f); For the value Gamma = %.3f' % (mean(scores), std(scores), i))"
   ]
  },
  {
   "cell_type": "markdown",
   "metadata": {},
   "source": [
    "#### Gamma has no affect on the SVM model, so we will go back to gamma = 'scale' as default"
   ]
  },
  {
   "cell_type": "markdown",
   "metadata": {},
   "source": [
    "# Applying Confusion Matrix to SVM model with Feature Selection (and tuned Hyperparameters):"
   ]
  },
  {
   "cell_type": "code",
   "execution_count": 22,
   "metadata": {},
   "outputs": [],
   "source": [
    "# Fault names for confusion matrix\n",
    "class_names = ['Undercharged B','System Off', 'Overcharged A', 'Condensor Fault', 'Evaporator Fault', 'No Fault']"
   ]
  },
  {
   "cell_type": "code",
   "execution_count": 23,
   "metadata": {},
   "outputs": [
    {
     "data": {
      "text/plain": [
       "Text(32.99999999999999, 0.5, 'True')"
      ]
     },
     "execution_count": 23,
     "metadata": {},
     "output_type": "execute_result"
    },
    {
     "data": {
      "image/png": "[encoded data removed]",
      "text/plain": [
       "<Figure size 432x288 with 2 Axes>"
      ]
     },
     "metadata": {
      "needs_background": "light"
     },
     "output_type": "display_data"
    }
   ],
   "source": [
    "# create a linear SVM model and set hyperparameters C and gamma. Modify these parameters to tune the SVM model\n",
    "clf = svm.SVC(kernel='linear', gamma='scale')# Linear Kernel\n",
    "\n",
    "y_pred = cross_val_predict(clf, X_new, y, cv = 10)\n",
    "# Create a confusion matrix by comparing y_test to y_predict labels\n",
    "conf_mat = confusion_matrix(y, y_pred, labels = class_names)\n",
    "index = class_names\n",
    "columns = class_names\n",
    "cm_df = pd.DataFrame(conf_mat,columns,index)                        \n",
    "sns.heatmap(cm_df, annot=True, cmap=\"Blues\", fmt= \"d\")\n",
    "plt.title('Confusion matrix without normalization')\n",
    "plt.xlabel('Predicted')\n",
    "plt.ylabel('True')"
   ]
  },
  {
   "cell_type": "code",
   "execution_count": 24,
   "metadata": {},
   "outputs": [
    {
     "data": {
      "text/plain": [
       "Text(32.99999999999999, 0.5, 'True')"
      ]
     },
     "execution_count": 24,
     "metadata": {},
     "output_type": "execute_result"
    },
    {
     "data": {
      "image/png": "[encoded data removed]",
      "text/plain": [
       "<Figure size 432x288 with 2 Axes>"
      ]
     },
     "metadata": {
      "needs_background": "light"
     },
     "output_type": "display_data"
    }
   ],
   "source": [
    "y_pred = cross_val_predict(clf, X_new, y, cv = 10)\n",
    "# Create new confusion matrix with normalization applied\n",
    "conf_mat2 = confusion_matrix(y, y_pred, labels = class_names, normalize='true')\n",
    "cm_df2 = pd.DataFrame(conf_mat2,columns,index)                        \n",
    "sns.heatmap(cm_df2, annot=True, cmap=\"Blues\")\n",
    "plt.title('Normalized confusion matrix')\n",
    "plt.xlabel('Predicted')\n",
    "plt.ylabel('True')"
   ]
  },
  {
   "cell_type": "markdown",
   "metadata": {},
   "source": [
    "## Accuracy Metrics:"
   ]
  },
  {
   "cell_type": "code",
   "execution_count": 25,
   "metadata": {},
   "outputs": [
    {
     "name": "stdout",
     "output_type": "stream",
     "text": [
      "                  precision    recall  f1-score   support\n",
      "\n",
      " Condensor Fault       0.97      0.92      0.95       451\n",
      "Evaporator Fault       0.90      0.96      0.93       237\n",
      "        No Fault       0.81      0.94      0.87        99\n",
      "   Overcharged A       0.90      0.91      0.90       475\n",
      "      System Off       0.94      0.92      0.93       774\n",
      "  Undercharged B       1.00      1.00      1.00       837\n",
      "\n",
      "        accuracy                           0.95      2873\n",
      "       macro avg       0.92      0.94      0.93      2873\n",
      "    weighted avg       0.95      0.95      0.95      2873\n",
      "\n"
     ]
    }
   ],
   "source": [
    "# Label Names\n",
    "target_names = ['Condensor Fault', 'Evaporator Fault', 'No Fault', 'Overcharged A', 'System Off', 'Undercharged B']\n",
    "# The precision is intuitively the ability of the classifier not to label as positive a sample that is negative.\n",
    "# The recall is intuitively the ability of the classifier to find all the positive samples.\n",
    "# The F-beta score can be interpreted as a weighted harmonic mean of the precision and recall, \n",
    "# where an F-beta score reaches its best value at 1 and worst score at 0.\n",
    "# The support is the number of occurrences of each class where prediction is true\n",
    "print(classification_report(y, y_pred, target_names=target_names))"
   ]
  },
  {
   "cell_type": "code",
   "execution_count": null,
   "metadata": {},
   "outputs": [],
   "source": []
  }
 ],
 "metadata": {
  "kernelspec": {
   "display_name": "Python 3",
   "language": "python",
   "name": "python3"
  },
  "language_info": {
   "codemirror_mode": {
    "name": "ipython",
    "version": 3
   },
   "file_extension": ".py",
   "mimetype": "text/x-python",
   "name": "python",
   "nbconvert_exporter": "python",
   "pygments_lexer": "ipython3",
   "version": "3.8.3"
  }
 },
 "nbformat": 4,
 "nbformat_minor": 4
}
